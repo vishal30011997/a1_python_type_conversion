{
 "cells": [
  {
   "cell_type": "raw",
   "id": "7de66cc4-14ff-477c-8eee-bfaa26578a3b",
   "metadata": {},
   "source": [
    " Assignment 1 Solution  : \" PYTHON TYPE CONVERSION \"     date : 02/03/2024"
   ]
  },
  {
   "cell_type": "markdown",
   "id": "6b8a216b-4e70-4025-abcc-14d26cd5052d",
   "metadata": {},
   "source": [
    "Q1. Convert an integer to a floatig-point number."
   ]
  },
  {
   "cell_type": "code",
   "execution_count": 20,
   "id": "4d5800c7-b635-4a36-a939-145de6c01fd8",
   "metadata": {},
   "outputs": [
    {
     "name": "stdin",
     "output_type": "stream",
     "text": [
      "Enter a number : 12\n"
     ]
    },
    {
     "name": "stdout",
     "output_type": "stream",
     "text": [
      "float of the entered number is : 12.0\n"
     ]
    }
   ],
   "source": [
    "# solution\n",
    "x = int(input(\"Enter a number :\"))\n",
    "y = float(x)\n",
    "print(\"float of the entered number is :\",y)"
   ]
  },
  {
   "cell_type": "markdown",
   "id": "332c1df7-5977-4053-89a9-5043575513a8",
   "metadata": {},
   "source": [
    "Q2. Convert a float to an integer."
   ]
  },
  {
   "cell_type": "code",
   "execution_count": 21,
   "id": "e07140b5-202b-45bf-881c-b618234951e3",
   "metadata": {},
   "outputs": [
    {
     "name": "stdin",
     "output_type": "stream",
     "text": [
      "Enter a number : 13.66\n"
     ]
    },
    {
     "name": "stdout",
     "output_type": "stream",
     "text": [
      "Integer form of the float number is : 13\n"
     ]
    }
   ],
   "source": [
    "# solution\n",
    "x = float(input(\"Enter a number :\"))\n",
    "y = int(x)\n",
    "print(\"Integer form of the float number is :\",y)"
   ]
  },
  {
   "cell_type": "markdown",
   "id": "5599a67e-ffe5-443b-a6a6-fee81eb595d9",
   "metadata": {},
   "source": [
    "Q3. Convert an integer to a string."
   ]
  },
  {
   "cell_type": "code",
   "execution_count": 22,
   "id": "68f3b7cb-0e2c-41b2-b72d-50495e9acee1",
   "metadata": {},
   "outputs": [
    {
     "name": "stdin",
     "output_type": "stream",
     "text": [
      "Enter a number : 123\n"
     ]
    },
    {
     "name": "stdout",
     "output_type": "stream",
     "text": [
      "conversion of integer to the string is : 123\n"
     ]
    }
   ],
   "source": [
    "# solution\n",
    "x = int(input(\"Enter a number :\"))\n",
    "y = str(x)\n",
    "print(\"conversion of integer to the string is :\",y)"
   ]
  },
  {
   "cell_type": "markdown",
   "id": "ae22cf8d-0c20-4761-9a6a-944dabc36ce6",
   "metadata": {},
   "source": [
    "Q4. Convert a list to a tuple."
   ]
  },
  {
   "cell_type": "code",
   "execution_count": 23,
   "id": "fbf4bae9-471b-4120-9bc0-f079c7921a12",
   "metadata": {},
   "outputs": [
    {
     "name": "stdout",
     "output_type": "stream",
     "text": [
      "conversion of a list to a tuple is : ('apple', 'python', 'physicswallah', 'PW')\n"
     ]
    }
   ],
   "source": [
    "# solution\n",
    "l = [\"apple\", \"python\", \"physicswallah\", \"PW\"]\n",
    "t = tuple(l)\n",
    "print(\"conversion of a list to a tuple is :\",t)"
   ]
  },
  {
   "cell_type": "markdown",
   "id": "ff846c22-8a66-43fa-a5ca-40acc3dfb1ae",
   "metadata": {},
   "source": [
    "Q5. Convert a tuple to a list."
   ]
  },
  {
   "cell_type": "code",
   "execution_count": 24,
   "id": "6d3fac93-c75d-4fa4-a6d1-8bb0976e3e42",
   "metadata": {},
   "outputs": [
    {
     "name": "stdout",
     "output_type": "stream",
     "text": [
      "conversion of the tuple to the list is : ['data_science', 'machine_learning', 'power_bi', 'excel']\n"
     ]
    }
   ],
   "source": [
    "# solution\n",
    "t = (\"data_science\", \"machine_learning\", \"power_bi\", \"excel\")\n",
    "l = list(t)\n",
    "print(\"conversion of the tuple to the list is :\",l)"
   ]
  },
  {
   "cell_type": "markdown",
   "id": "5f880287-fcda-43d5-b1b9-5c21a4c90c8e",
   "metadata": {},
   "source": [
    "Q6. Convert a decimal number to binary."
   ]
  },
  {
   "cell_type": "code",
   "execution_count": 17,
   "id": "2070b4e9-dbdd-4fb1-8a4e-d1d3052e2938",
   "metadata": {},
   "outputs": [
    {
     "name": "stdin",
     "output_type": "stream",
     "text": [
      "Enter a number :  10\n"
     ]
    },
    {
     "name": "stdout",
     "output_type": "stream",
     "text": [
      "binary of entered number is : 0b1010\n"
     ]
    }
   ],
   "source": [
    "# solution\n",
    "num = int(input(\"Enter a number : \"))\n",
    "x = bin(num)\n",
    "print(\"binary of entered number is :\", x )"
   ]
  },
  {
   "cell_type": "markdown",
   "id": "f430a2a6-8689-415b-bfb1-cfc7d0407755",
   "metadata": {},
   "source": [
    "Q7. Convert a non-zero number to boolean."
   ]
  },
  {
   "cell_type": "code",
   "execution_count": 18,
   "id": "b6eaec8c-d543-4369-b58b-8f5b97ff30f1",
   "metadata": {},
   "outputs": [
    {
     "name": "stdin",
     "output_type": "stream",
     "text": [
      "Enter a non-zero number :  10\n"
     ]
    },
    {
     "name": "stdout",
     "output_type": "stream",
     "text": [
      "Boolean form of the entered non-zero number is :  True\n"
     ]
    }
   ],
   "source": [
    "# solution\n",
    "num = int(input(\"Enter a non-zero number : \"))\n",
    "b = bool(num)\n",
    "print(\"Boolean form of the entered non-zero number is : \", b)"
   ]
  },
  {
   "cell_type": "code",
   "execution_count": null,
   "id": "fbd58f72-1903-40e2-b5ff-84ee6ec6f88d",
   "metadata": {},
   "outputs": [],
   "source": []
  }
 ],
 "metadata": {
  "kernelspec": {
   "display_name": "Python 3 (ipykernel)",
   "language": "python",
   "name": "python3"
  },
  "language_info": {
   "codemirror_mode": {
    "name": "ipython",
    "version": 3
   },
   "file_extension": ".py",
   "mimetype": "text/x-python",
   "name": "python",
   "nbconvert_exporter": "python",
   "pygments_lexer": "ipython3",
   "version": "3.10.8"
  }
 },
 "nbformat": 4,
 "nbformat_minor": 5
}
